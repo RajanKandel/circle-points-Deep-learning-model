{
 "cells": [
  {
   "cell_type": "code",
   "execution_count": 1,
   "metadata": {},
   "outputs": [],
   "source": [
    "import torch\n",
    "#print(torch.__version__)"
   ]
  },
  {
   "cell_type": "code",
   "execution_count": 2,
   "metadata": {},
   "outputs": [],
   "source": [
    "import pandas as pd"
   ]
  },
  {
   "cell_type": "code",
   "execution_count": 3,
   "metadata": {},
   "outputs": [],
   "source": [
    "from torch.utils.data import Dataset, DataLoader\n",
    "\n",
    "class MyDataset(Dataset):\n",
    "    def __init__(self,trainpoints, testpoints):\n",
    "        circle_train_df = pd.read_csv(trainpoints)\n",
    "        circle_test_df = pd.read_csv(testpoints)\n",
    "        \n",
    "        self.circle_train_df = circle_train_df.iloc[:,:].values\n",
    "        self.circle_test_df = circle_test_df.iloc[:,:].values\n",
    "        \n",
    "        self.x_circle_train_df = circle_train_df.iloc[:,0:6].values #features\n",
    "        self.y1_circle_train_df = circle_train_df.iloc[:,6:7].values #output1\n",
    "        self.y2_circle_train_df = circle_train_df.iloc[:,7:8].values #output2\n",
    "        \n",
    "        self.x_circle_test_df = circle_test_df.iloc[:,0:6].values  #features     \n",
    "        self.y1_circle_test_df = circle_test_df.iloc[:,6:7].values  #output1\n",
    "        self.y2_circle_test_df = circle_test_df.iloc[:,7:8].values  #output2\n",
    "        \n",
    "        self.x_tensor_circle_train_df = torch.tensor(self.x_circle_train_df,dtype=torch.float64) \n",
    "        self.y1_tensor_circle_train_df = torch.tensor(self.y1_circle_train_df,dtype=torch.float64)\n",
    "        self.y2_tensor_circle_train_df = torch.tensor(self.y2_circle_train_df,dtype=torch.float64)\n",
    "        \n",
    "        self.x_tensor_circle_test_df = torch.tensor(self.x_circle_test_df,dtype=torch.float64) \n",
    "        self.y1_tensor_circle_test_df = torch.tensor(self.y1_circle_test_df,dtype=torch.float64) \n",
    "        self.y2_tensor_circle_test_df = torch.tensor(self.y2_circle_test_df,dtype=torch.float64)\n",
    "                \n",
    "           \n",
    "    def __len__(self):\n",
    "        return len(self.x_tensor_circle_train_df),len(self.y1_tensor_circle_train_df), len(self.y2_tensor_circle_train_df), len(self.x_tensor_circle_test_df), len(self.y1_tensor_circle_test_df), len(self.y2_tensor_circle_test_df)\n",
    "  \n",
    "    def __getitem__(self, idx):\n",
    "        return self.x_tensor_circle_train_df[idx], self.y1_tensor_circle_train_df[idx], self.y2_tensor_circle_train_df[idx]"
   ]
  },
  {
   "cell_type": "code",
   "execution_count": 4,
   "metadata": {},
   "outputs": [],
   "source": [
    "p = MyDataset('circle_trainpoints.csv','circle_testpoints.csv')"
   ]
  },
  {
   "cell_type": "code",
   "execution_count": null,
   "metadata": {},
   "outputs": [],
   "source": [
    "#p.circle_train_df"
   ]
  },
  {
   "cell_type": "code",
   "execution_count": null,
   "metadata": {},
   "outputs": [],
   "source": [
    "#p.__getitem__(2)"
   ]
  },
  {
   "cell_type": "code",
   "execution_count": null,
   "metadata": {},
   "outputs": [],
   "source": [
    "# p.y2_circle_train_df\n"
   ]
  },
  {
   "cell_type": "code",
   "execution_count": null,
   "metadata": {},
   "outputs": [],
   "source": []
  }
 ],
 "metadata": {
  "kernelspec": {
   "display_name": "Python 3",
   "language": "python",
   "name": "python3"
  },
  "language_info": {
   "codemirror_mode": {
    "name": "ipython",
    "version": 3
   },
   "file_extension": ".py",
   "mimetype": "text/x-python",
   "name": "python",
   "nbconvert_exporter": "python",
   "pygments_lexer": "ipython3",
   "version": "3.7.4"
  }
 },
 "nbformat": 4,
 "nbformat_minor": 2
}
