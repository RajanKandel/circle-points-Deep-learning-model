{
 "cells": [
  {
   "cell_type": "code",
   "execution_count": 19,
   "metadata": {},
   "outputs": [],
   "source": [
    "import numpy as np\n",
    "import torch\n",
    "from torch.utils import data\n",
    "import matplotlib.pyplot as plt\n"
   ]
  },
  {
   "cell_type": "code",
   "execution_count": 2,
   "metadata": {},
   "outputs": [],
   "source": [
    "%run DataPre-processing.ipynb #importing other jupyter notebook file"
   ]
  },
  {
   "cell_type": "code",
   "execution_count": 3,
   "metadata": {},
   "outputs": [
    {
     "name": "stderr",
     "output_type": "stream",
     "text": [
      "C:\\Users\\RajanPC\\Anaconda3\\lib\\site-packages\\ipykernel_launcher.py:2: UserWarning: To copy construct from a tensor, it is recommended to use sourceTensor.clone().detach() or sourceTensor.clone().detach().requires_grad_(True), rather than torch.tensor(sourceTensor).\n",
      "  \n",
      "C:\\Users\\RajanPC\\Anaconda3\\lib\\site-packages\\ipykernel_launcher.py:6: UserWarning: To copy construct from a tensor, it is recommended to use sourceTensor.clone().detach() or sourceTensor.clone().detach().requires_grad_(True), rather than torch.tensor(sourceTensor).\n",
      "  \n"
     ]
    }
   ],
   "source": [
    "features = p.x_tensor_circle_train_df\n",
    "features = torch.tensor(features, dtype =torch.float32)\n",
    "#print(features.type())\n",
    "\n",
    "labels = p.y1_tensor_circle_train_df\n",
    "labels = torch.tensor(labels, dtype = torch.float32)\n",
    "#print(labels.type())\n"
   ]
  },
  {
   "cell_type": "code",
   "execution_count": 4,
   "metadata": {},
   "outputs": [],
   "source": [
    "#reading the dataset\n",
    "def load_array(data_arrays, batch_size, is_train=True):  #@save\n",
    "    \"\"\"Construct a PyTorch data iterator.\"\"\"\n",
    "    dataset = data.TensorDataset(*data_arrays)\n",
    "    return data.DataLoader(dataset, batch_size, shuffle=is_train)\n",
    "\n",
    "batch_size = 10\n",
    "data_iter = load_array((features, labels), batch_size)"
   ]
  },
  {
   "cell_type": "code",
   "execution_count": 5,
   "metadata": {},
   "outputs": [
    {
     "data": {
      "text/plain": [
       "[tensor([[ -0.9854,  14.9139, -10.9796,  -9.1294, -34.5973,  64.8398],\n",
       "         [ -6.3319,  49.6190, -12.8501,  53.7817,  -8.0289,  40.0503],\n",
       "         [ 18.0741, -14.0846,  18.3586, -14.4750,   5.9584, -80.6105],\n",
       "         [ 30.4099, -94.3600,  19.9060,  27.8556, -26.0179, -74.6651],\n",
       "         [-27.7124,   2.8420,  -2.5695,  24.1751,  34.4162,  10.6311],\n",
       "         [  5.0948,  19.0563, -18.3713,  -5.8266, -59.4810,  11.4589],\n",
       "         [  0.7754, -58.1173,  -2.8958, -58.6961, -29.3943, -40.8390],\n",
       "         [-42.1313,  50.4642,  11.3294,  43.9042,  31.9934, -46.9595],\n",
       "         [ 20.9143,   0.1442, -96.5093, -43.5541, -95.5116, -45.2525],\n",
       "         [110.0370, -37.8835, -27.9912, -18.2970, 100.4496, -64.6209]]),\n",
       " tensor([[-47.2353],\n",
       "         [-13.2751],\n",
       "         [-20.0315],\n",
       "         [ 19.9443],\n",
       "         [  5.5637],\n",
       "         [-28.6066],\n",
       "         [ -5.0852],\n",
       "         [-22.6201],\n",
       "         [-41.3115],\n",
       "         [ 41.0258]])]"
      ]
     },
     "execution_count": 5,
     "metadata": {},
     "output_type": "execute_result"
    }
   ],
   "source": [
    "next(iter(data_iter))"
   ]
  },
  {
   "cell_type": "code",
   "execution_count": 11,
   "metadata": {},
   "outputs": [],
   "source": [
    "#defining the model\n",
    "\n",
    "from torch import nn\n",
    "net = nn.Sequential(nn.Linear(6, 1))"
   ]
  },
  {
   "cell_type": "code",
   "execution_count": 12,
   "metadata": {},
   "outputs": [
    {
     "data": {
      "text/plain": [
       "'torch.FloatTensor'"
      ]
     },
     "execution_count": 12,
     "metadata": {},
     "output_type": "execute_result"
    }
   ],
   "source": [
    "#initializing the model parameters\n",
    "net[0].weight.data.normal_(0, 0.01)\n",
    "net[0].bias.data.fill_(0).type()\n"
   ]
  },
  {
   "cell_type": "code",
   "execution_count": 13,
   "metadata": {},
   "outputs": [],
   "source": [
    "#defining the loss function\n",
    "loss = nn.MSELoss()"
   ]
  },
  {
   "cell_type": "code",
   "execution_count": 14,
   "metadata": {},
   "outputs": [],
   "source": [
    "#defining the optimization algorithm\n",
    "trainer = torch.optim.SGD(net.parameters(), lr=0.03)"
   ]
  },
  {
   "cell_type": "code",
   "execution_count": 21,
   "metadata": {},
   "outputs": [
    {
     "name": "stderr",
     "output_type": "stream",
     "text": [
      "C:\\Users\\RajanPC\\Anaconda3\\lib\\site-packages\\ipykernel_launcher.py:5: UserWarning: To copy construct from a tensor, it is recommended to use sourceTensor.clone().detach() or sourceTensor.clone().detach().requires_grad_(True), rather than torch.tensor(sourceTensor).\n",
      "  \"\"\"\n"
     ]
    },
    {
     "name": "stdout",
     "output_type": "stream",
     "text": [
      "epoch 1, loss 819.454163\n",
      "epoch 2, loss 819.454163\n",
      "epoch 3, loss 819.454163\n",
      "epoch 4, loss 819.454163\n",
      "epoch 5, loss 819.454163\n"
     ]
    }
   ],
   "source": [
    "num_epochs =5\n",
    "for epoch in range(num_epochs):\n",
    "    for X, y in data_iter:\n",
    "        l = loss(net(X.to(torch.float32)), y)\n",
    "        l = torch.tensor(l, dtype = torch.float32)\n",
    "        l.requires_grad =True\n",
    "        trainer.zero_grad()\n",
    "        l.backward()\n",
    "        trainer.step()\n",
    "    l = loss(net(features), labels)\n",
    "    print(f'epoch {epoch + 1}, loss {l:f}')"
   ]
  },
  {
   "cell_type": "code",
   "execution_count": 17,
   "metadata": {},
   "outputs": [
    {
     "name": "stdout",
     "output_type": "stream",
     "text": [
      "0.weight torch.Size([1, 6]) tensor([[ 0.0036, -0.0164,  0.0052, -0.0084,  0.0011, -0.0037]])\n",
      "0.bias torch.Size([1]) tensor([0.])\n"
     ]
    }
   ],
   "source": [
    "#To print the parameters of trained model\n",
    "for name, param in net.state_dict().items():\n",
    "    print(name, param.size(), param)"
   ]
  },
  {
   "cell_type": "code",
   "execution_count": 20,
   "metadata": {},
   "outputs": [
    {
     "data": {
      "image/png": "[encoded data removed]",
      "text/plain": [
       "<Figure size 432x288 with 1 Axes>"
      ]
     },
     "metadata": {
      "needs_background": "light"
     },
     "output_type": "display_data"
    }
   ],
   "source": [
    "# Plot\n",
    "predicted = net(X).detach().numpy()\n",
    "\n",
    "plt.plot(features, labels, 'ro')\n",
    "#plt.plot(X_numpy, predicted, 'b')\n",
    "plt.show()"
   ]
  },
  {
   "cell_type": "code",
   "execution_count": null,
   "metadata": {},
   "outputs": [],
   "source": []
  }
 ],
 "metadata": {
  "kernelspec": {
   "display_name": "Python 3",
   "language": "python",
   "name": "python3"
  },
  "language_info": {
   "codemirror_mode": {
    "name": "ipython",
    "version": 3
   },
   "file_extension": ".py",
   "mimetype": "text/x-python",
   "name": "python",
   "nbconvert_exporter": "python",
   "pygments_lexer": "ipython3",
   "version": "3.7.4"
  }
 },
 "nbformat": 4,
 "nbformat_minor": 2
}
